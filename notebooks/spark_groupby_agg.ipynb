{
 "cells": [
  {
   "cell_type": "markdown",
   "id": "71fa1589",
   "metadata": {},
   "source": [
    "#### This Notebook aims to test methods that can group by or aggregate data in dataframe"
   ]
  },
  {
   "cell_type": "code",
   "execution_count": 1,
   "id": "10c7fc49",
   "metadata": {},
   "outputs": [],
   "source": [
    "# Testing pyspark installation\n",
    "# you have to install findspark with this command: conda install -c conda-forge findspark\n",
    "# Make sure if you are behind a corporate proxy to whitelist conda-forge channel\n",
    "import findspark\n",
    "findspark.init()\n",
    "findspark.find()\n",
    "\n",
    "import os\n",
    "# Make sure you add the good version of the package hadoop-aws, compatible to hadoop version already installed\n",
    "os.environ['PYSPARK_SUBMIT_ARGS'] = '--packages org.apache.hadoop:hadoop-aws:3.2.0 --conf spark.dynamicAllocation.enabled=true pyspark-shell '"
   ]
  },
  {
   "cell_type": "code",
   "execution_count": 2,
   "id": "f957226c",
   "metadata": {},
   "outputs": [
    {
     "data": {
      "text/html": [
       "\n",
       "            <div>\n",
       "                <p><b>SparkSession - in-memory</b></p>\n",
       "                \n",
       "        <div>\n",
       "            <p><b>SparkContext</b></p>\n",
       "\n",
       "            <p><a href=\"http://LAPTOP-FTPONOOH:4045\">Spark UI</a></p>\n",
       "\n",
       "            <dl>\n",
       "              <dt>Version</dt>\n",
       "                <dd><code>v3.1.3</code></dd>\n",
       "              <dt>Master</dt>\n",
       "                <dd><code>local[*]</code></dd>\n",
       "              <dt>AppName</dt>\n",
       "                <dd><code>Aggregate</code></dd>\n",
       "            </dl>\n",
       "        </div>\n",
       "        \n",
       "            </div>\n",
       "        "
      ],
      "text/plain": [
       "<pyspark.sql.session.SparkSession at 0x1d661e98880>"
      ]
     },
     "execution_count": 2,
     "metadata": {},
     "output_type": "execute_result"
    }
   ],
   "source": [
    "from pyspark.sql import SparkSession\n",
    "\n",
    "spark = SparkSession.builder.appName(\"Aggregate\").getOrCreate()\n",
    "spark\n"
   ]
  },
  {
   "cell_type": "code",
   "execution_count": 3,
   "id": "ea276a8a",
   "metadata": {},
   "outputs": [
    {
     "name": "stdout",
     "output_type": "stream",
     "text": [
      "+----------+----------+\n",
      "|listing_id|      date|\n",
      "+----------+----------+\n",
      "|      null|      null|\n",
      "|      null|2009-04-24|\n",
      "|      2818|2009-05-03|\n",
      "|      2818|2009-05-18|\n",
      "|      2818|2009-05-25|\n",
      "+----------+----------+\n",
      "only showing top 5 rows\n",
      "\n"
     ]
    }
   ],
   "source": [
    "#pdf = spark.read.option(\"header\", \"true\").csv(\"../data/reviews.csv\")\n",
    "#dfp.printSchema()\n",
    "\n",
    "pdf = spark.read.option(\"header\",\"true\").csv('../data/reviews.csv',inferSchema=True)\n",
    "pdf.show(5)"
   ]
  },
  {
   "cell_type": "markdown",
   "id": "6f273679",
   "metadata": {},
   "source": [
    "GroupBy/Aggregate Operations"
   ]
  },
  {
   "cell_type": "code",
   "execution_count": 48,
   "id": "1d4790f6",
   "metadata": {},
   "outputs": [
    {
     "name": "stdout",
     "output_type": "stream",
     "text": [
      "+----------+-----+\n",
      "|      date|count|\n",
      "+----------+-----+\n",
      "|2021-11-14|  582|\n",
      "|2019-06-02|  485|\n",
      "|2021-11-01|  471|\n",
      "|2019-04-22|  462|\n",
      "|2021-10-17|  460|\n",
      "+----------+-----+\n",
      "only showing top 5 rows\n",
      "\n"
     ]
    }
   ],
   "source": [
    "from pyspark.sql.functions import desc\n",
    "\n",
    "# Group By\n",
    "gr_pdf = pdf.groupBy(\"date\").count()\n",
    "gr_pdf = gr_pdf.sort(desc(\"count\"))\n",
    "gr_pdf.show(5)"
   ]
  },
  {
   "cell_type": "code",
   "execution_count": 52,
   "id": "1de1e19e",
   "metadata": {},
   "outputs": [
    {
     "name": "stdout",
     "output_type": "stream",
     "text": [
      "+---------------+\n",
      "|max(listing_id)|\n",
      "+---------------+\n",
      "|       53294643|\n",
      "+---------------+\n",
      "\n"
     ]
    }
   ],
   "source": [
    "pdf.agg({'listing_id': 'max'}).show()"
   ]
  },
  {
   "cell_type": "code",
   "execution_count": null,
   "id": "7c4e9562",
   "metadata": {},
   "outputs": [],
   "source": [
    "spark.stop()"
   ]
  }
 ],
 "metadata": {
  "kernelspec": {
   "display_name": "Python 3 (ipykernel)",
   "language": "python",
   "name": "python3"
  },
  "language_info": {
   "codemirror_mode": {
    "name": "ipython",
    "version": 3
   },
   "file_extension": ".py",
   "mimetype": "text/x-python",
   "name": "python",
   "nbconvert_exporter": "python",
   "pygments_lexer": "ipython3",
   "version": "3.9.7"
  }
 },
 "nbformat": 4,
 "nbformat_minor": 5
}
