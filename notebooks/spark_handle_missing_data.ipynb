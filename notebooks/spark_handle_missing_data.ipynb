{
 "cells": [
  {
   "cell_type": "markdown",
   "id": "71fa1589",
   "metadata": {},
   "source": [
    "#### This Notebook aims to test pyspark functions that handle missing value in a dataframe"
   ]
  },
  {
   "cell_type": "code",
   "execution_count": 27,
   "id": "10c7fc49",
   "metadata": {},
   "outputs": [],
   "source": [
    "# Testing pyspark installation\n",
    "# you have to install findspark with this command: conda install -c conda-forge findspark\n",
    "# Make sure if you are behind a corporate proxy to whitelist conda-forge channel\n",
    "import findspark\n",
    "findspark.init()\n",
    "findspark.find()\n",
    "\n",
    "import os\n",
    "# Make sure you add the good version of the package hadoop-aws, compatible to hadoop version already installed\n",
    "os.environ['PYSPARK_SUBMIT_ARGS'] = '--packages org.apache.hadoop:hadoop-aws:3.2.0 --conf spark.dynamicAllocation.enabled=true pyspark-shell '"
   ]
  },
  {
   "cell_type": "code",
   "execution_count": 2,
   "id": "6e03fd6f",
   "metadata": {},
   "outputs": [],
   "source": [
    "# Get AWS Credentials from local file \n",
    "import os\n",
    "import configparser\n",
    "\n",
    "config = configparser.ConfigParser()\n",
    "config.read(os.path.expanduser(\"~/.aws/credentials\"))\n",
    "\n",
    "aws_profile = 'default' # your AWS profile to use\n",
    "\n",
    "access_key = config.get(aws_profile, \"aws_access_key_id\") \n",
    "secret_key = config.get(aws_profile, \"aws_secret_access_key\")"
   ]
  },
  {
   "cell_type": "code",
   "execution_count": 3,
   "id": "9636dff6",
   "metadata": {},
   "outputs": [
    {
     "data": {
      "text/html": [
       "<div>\n",
       "<style scoped>\n",
       "    .dataframe tbody tr th:only-of-type {\n",
       "        vertical-align: middle;\n",
       "    }\n",
       "\n",
       "    .dataframe tbody tr th {\n",
       "        vertical-align: top;\n",
       "    }\n",
       "\n",
       "    .dataframe thead th {\n",
       "        text-align: right;\n",
       "    }\n",
       "</style>\n",
       "<table border=\"1\" class=\"dataframe\">\n",
       "  <thead>\n",
       "    <tr style=\"text-align: right;\">\n",
       "      <th></th>\n",
       "      <th>listing_id</th>\n",
       "      <th>date</th>\n",
       "    </tr>\n",
       "  </thead>\n",
       "  <tbody>\n",
       "    <tr>\n",
       "      <th>0</th>\n",
       "      <td>2818</td>\n",
       "      <td>2009-03-30</td>\n",
       "    </tr>\n",
       "    <tr>\n",
       "      <th>1</th>\n",
       "      <td>2818</td>\n",
       "      <td>2009-04-24</td>\n",
       "    </tr>\n",
       "    <tr>\n",
       "      <th>2</th>\n",
       "      <td>2818</td>\n",
       "      <td>2009-05-03</td>\n",
       "    </tr>\n",
       "    <tr>\n",
       "      <th>3</th>\n",
       "      <td>2818</td>\n",
       "      <td>2009-05-18</td>\n",
       "    </tr>\n",
       "    <tr>\n",
       "      <th>4</th>\n",
       "      <td>2818</td>\n",
       "      <td>2009-05-25</td>\n",
       "    </tr>\n",
       "  </tbody>\n",
       "</table>\n",
       "</div>"
      ],
      "text/plain": [
       "   listing_id        date\n",
       "0        2818  2009-03-30\n",
       "1        2818  2009-04-24\n",
       "2        2818  2009-05-03\n",
       "3        2818  2009-05-18\n",
       "4        2818  2009-05-25"
      ]
     },
     "execution_count": 3,
     "metadata": {},
     "output_type": "execute_result"
    }
   ],
   "source": [
    "import pandas as pd\n",
    "\n",
    "df = pd.read_csv(\"../data/reviews.csv\")\n",
    "\n",
    "df.head()\n"
   ]
  },
  {
   "cell_type": "code",
   "execution_count": 28,
   "id": "f957226c",
   "metadata": {},
   "outputs": [
    {
     "data": {
      "text/html": [
       "\n",
       "            <div>\n",
       "                <p><b>SparkSession - in-memory</b></p>\n",
       "                \n",
       "        <div>\n",
       "            <p><b>SparkContext</b></p>\n",
       "\n",
       "            <p><a href=\"http://LAPTOP-FTPONOOH:4044\">Spark UI</a></p>\n",
       "\n",
       "            <dl>\n",
       "              <dt>Version</dt>\n",
       "                <dd><code>v3.1.3</code></dd>\n",
       "              <dt>Master</dt>\n",
       "                <dd><code>local[*]</code></dd>\n",
       "              <dt>AppName</dt>\n",
       "                <dd><code>Dataframe</code></dd>\n",
       "            </dl>\n",
       "        </div>\n",
       "        \n",
       "            </div>\n",
       "        "
      ],
      "text/plain": [
       "<pyspark.sql.session.SparkSession at 0x1959a0f9b50>"
      ]
     },
     "execution_count": 28,
     "metadata": {},
     "output_type": "execute_result"
    }
   ],
   "source": [
    "from pyspark.sql import SparkSession\n",
    "\n",
    "spark = SparkSession.builder.appName(\"Dataframe\").getOrCreate()\n",
    "spark\n"
   ]
  },
  {
   "cell_type": "code",
   "execution_count": 29,
   "id": "ea276a8a",
   "metadata": {},
   "outputs": [
    {
     "name": "stdout",
     "output_type": "stream",
     "text": [
      "+----------+----------+\n",
      "|listing_id|      date|\n",
      "+----------+----------+\n",
      "|      null|      null|\n",
      "|      null|2009-04-24|\n",
      "|      2818|2009-05-03|\n",
      "|      2818|2009-05-18|\n",
      "|      2818|2009-05-25|\n",
      "+----------+----------+\n",
      "only showing top 5 rows\n",
      "\n"
     ]
    }
   ],
   "source": [
    "#pdf = spark.read.option(\"header\", \"true\").csv(\"../data/reviews.csv\")\n",
    "#dfp.printSchema()\n",
    "\n",
    "pdf = spark.read.option(\"header\",\"true\").csv('../data/reviews.csv',inferSchema=True)\n",
    "pdf.show(5)"
   ]
  },
  {
   "cell_type": "code",
   "execution_count": 10,
   "id": "eba8d2b5",
   "metadata": {},
   "outputs": [
    {
     "name": "stdout",
     "output_type": "stream",
     "text": [
      "+----------+----------+\n",
      "|listing_id|      date|\n",
      "+----------+----------+\n",
      "|      2818|2009-04-24|\n",
      "|      2818|2009-05-03|\n",
      "|      2818|2009-05-18|\n",
      "|      2818|2009-05-25|\n",
      "|      2818|2009-06-29|\n",
      "+----------+----------+\n",
      "only showing top 5 rows\n",
      "\n"
     ]
    }
   ],
   "source": [
    "## Drop columns with at least null value\n",
    "\n",
    "pdf.na.drop(how=\"any\").show(5)"
   ]
  },
  {
   "cell_type": "code",
   "execution_count": 17,
   "id": "c2655a88",
   "metadata": {},
   "outputs": [
    {
     "name": "stdout",
     "output_type": "stream",
     "text": [
      "+----------+----------+\n",
      "|listing_id|      date|\n",
      "+----------+----------+\n",
      "|      2818|      null|\n",
      "|      2818|2009-04-24|\n",
      "|      2818|2009-05-03|\n",
      "|      2818|2009-05-18|\n",
      "|      2818|2009-05-25|\n",
      "+----------+----------+\n",
      "only showing top 5 rows\n",
      "\n"
     ]
    }
   ],
   "source": [
    "## Drop columns with threshold\n",
    "\n",
    "pdf.na.drop(how=\"any\", thresh=1).show(5)"
   ]
  },
  {
   "cell_type": "code",
   "execution_count": 18,
   "id": "cf2f558c",
   "metadata": {},
   "outputs": [
    {
     "name": "stdout",
     "output_type": "stream",
     "text": [
      "+----------+----------+\n",
      "|listing_id|      date|\n",
      "+----------+----------+\n",
      "|      2818|2009-04-24|\n",
      "|      2818|2009-05-03|\n",
      "|      2818|2009-05-18|\n",
      "|      2818|2009-05-25|\n",
      "|      2818|2009-06-29|\n",
      "+----------+----------+\n",
      "only showing top 5 rows\n",
      "\n"
     ]
    }
   ],
   "source": [
    "## Subset\n",
    "\n",
    "pdf.na.drop(how=\"any\", subset=['date']).show(5)"
   ]
  },
  {
   "cell_type": "code",
   "execution_count": 21,
   "id": "c846684c",
   "metadata": {},
   "outputs": [
    {
     "name": "stdout",
     "output_type": "stream",
     "text": [
      "+----------+----------+\n",
      "|listing_id|      date|\n",
      "+----------+----------+\n",
      "|      2818|      zero|\n",
      "|      2818|2009-04-24|\n",
      "|      2818|2009-05-03|\n",
      "|      2818|2009-05-18|\n",
      "|      2818|2009-05-25|\n",
      "|      2818|2009-06-29|\n",
      "|      2818|2009-07-07|\n",
      "|      2818|2009-09-06|\n",
      "|      2818|2009-10-01|\n",
      "|      2818|      zero|\n",
      "|      2818|2009-11-23|\n",
      "|      2818|2009-11-25|\n",
      "|      2818|2010-01-27|\n",
      "|      2818|      zero|\n",
      "|      2818|2010-04-16|\n",
      "|      2818|2010-04-19|\n",
      "|      2818|2010-05-03|\n",
      "|      2818|2010-05-24|\n",
      "|      2818|2010-06-01|\n",
      "|      2818|2010-06-17|\n",
      "+----------+----------+\n",
      "only showing top 20 rows\n",
      "\n"
     ]
    }
   ],
   "source": [
    "pdf.na.fill('zero').show()"
   ]
  },
  {
   "cell_type": "code",
   "execution_count": 30,
   "id": "d41a776d",
   "metadata": {},
   "outputs": [],
   "source": [
    "from pyspark.ml.feature import Imputer\n",
    "\n",
    "imputer = Imputer(\n",
    "    inputCols=['listing_id'],\n",
    "    outputCols= [\"{}_imputed\".format(c) for c in ['listing_id']]\n",
    ").setStrategy(\"mean\")"
   ]
  },
  {
   "cell_type": "code",
   "execution_count": 31,
   "id": "e23ff8ad",
   "metadata": {},
   "outputs": [
    {
     "name": "stdout",
     "output_type": "stream",
     "text": [
      "+----------+----------+------------------+\n",
      "|listing_id|      date|listing_id_imputed|\n",
      "+----------+----------+------------------+\n",
      "|      null|      null|          13869983|\n",
      "|      null|2009-04-24|          13869983|\n",
      "|      2818|2009-05-03|              2818|\n",
      "|      2818|2009-05-18|              2818|\n",
      "|      2818|2009-05-25|              2818|\n",
      "|      2818|2009-06-29|              2818|\n",
      "|      2818|2009-07-07|              2818|\n",
      "|      2818|2009-09-06|              2818|\n",
      "|      2818|2009-10-01|              2818|\n",
      "|      2818|      null|              2818|\n",
      "|      2818|2009-11-23|              2818|\n",
      "|      2818|2009-11-25|              2818|\n",
      "|      2818|2010-01-27|              2818|\n",
      "|      2818|      null|              2818|\n",
      "|      2818|2010-04-16|              2818|\n",
      "|      2818|2010-04-19|              2818|\n",
      "|      2818|2010-05-03|              2818|\n",
      "|      2818|2010-05-24|              2818|\n",
      "|      2818|2010-06-01|              2818|\n",
      "|      2818|2010-06-17|              2818|\n",
      "+----------+----------+------------------+\n",
      "only showing top 20 rows\n",
      "\n"
     ]
    }
   ],
   "source": [
    "imputer.fit(pdf).transform(pdf).show()"
   ]
  }
 ],
 "metadata": {
  "kernelspec": {
   "display_name": "Python 3 (ipykernel)",
   "language": "python",
   "name": "python3"
  },
  "language_info": {
   "codemirror_mode": {
    "name": "ipython",
    "version": 3
   },
   "file_extension": ".py",
   "mimetype": "text/x-python",
   "name": "python",
   "nbconvert_exporter": "python",
   "pygments_lexer": "ipython3",
   "version": "3.9.7"
  }
 },
 "nbformat": 4,
 "nbformat_minor": 5
}
