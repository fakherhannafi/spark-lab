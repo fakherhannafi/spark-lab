{
 "cells": [
  {
   "cell_type": "markdown",
   "id": "71fa1589",
   "metadata": {},
   "source": [
    "#### This Notebook aims to test methods that can filter operations (conditional statements)"
   ]
  },
  {
   "cell_type": "code",
   "execution_count": 37,
   "id": "10c7fc49",
   "metadata": {},
   "outputs": [
    {
     "data": {
      "text/plain": [
       "'C:\\\\Spark\\\\spark-3.1.3-bin-hadoop3.2'"
      ]
     },
     "execution_count": 37,
     "metadata": {},
     "output_type": "execute_result"
    }
   ],
   "source": [
    "# Testing pyspark installation\n",
    "# you have to install findspark with this command: conda install -c conda-forge findspark\n",
    "# Make sure if you are behind a corporate proxy to whitelist conda-forge channel\n",
    "import findspark\n",
    "findspark.init()\n",
    "findspark.find()\n",
    "\n",
    "#import os\n",
    "# Make sure you add the good version of the package hadoop-aws, compatible to hadoop version already installed\n",
    "#os.environ['PYSPARK_SUBMIT_ARGS'] = '--packages org.apache.hadoop:hadoop-aws:3.2.0 --conf spark.dynamicAllocation.enabled=true pyspark-shell '"
   ]
  },
  {
   "cell_type": "code",
   "execution_count": 44,
   "id": "f957226c",
   "metadata": {},
   "outputs": [
    {
     "data": {
      "text/html": [
       "\n",
       "            <div>\n",
       "                <p><b>SparkSession - in-memory</b></p>\n",
       "                \n",
       "        <div>\n",
       "            <p><b>SparkContext</b></p>\n",
       "\n",
       "            <p><a href=\"http://LAPTOP-FTPONOOH:4040\">Spark UI</a></p>\n",
       "\n",
       "            <dl>\n",
       "              <dt>Version</dt>\n",
       "                <dd><code>v3.1.3</code></dd>\n",
       "              <dt>Master</dt>\n",
       "                <dd><code>local[*]</code></dd>\n",
       "              <dt>AppName</dt>\n",
       "                <dd><code>Dataframe</code></dd>\n",
       "            </dl>\n",
       "        </div>\n",
       "        \n",
       "            </div>\n",
       "        "
      ],
      "text/plain": [
       "<pyspark.sql.session.SparkSession at 0x1d216acc430>"
      ]
     },
     "execution_count": 44,
     "metadata": {},
     "output_type": "execute_result"
    }
   ],
   "source": [
    "from pyspark.sql import SparkSession\n",
    "\n",
    "spark = SparkSession.builder.appName(\"Dataframe\").getOrCreate()\n",
    "spark\n"
   ]
  },
  {
   "cell_type": "code",
   "execution_count": 45,
   "id": "ea276a8a",
   "metadata": {},
   "outputs": [
    {
     "name": "stdout",
     "output_type": "stream",
     "text": [
      "+----------+----------+\n",
      "|listing_id|      date|\n",
      "+----------+----------+\n",
      "|      null|      null|\n",
      "|      null|2009-04-24|\n",
      "|      2818|2009-05-03|\n",
      "|      2818|2009-05-18|\n",
      "|      2818|2009-05-25|\n",
      "+----------+----------+\n",
      "only showing top 5 rows\n",
      "\n"
     ]
    }
   ],
   "source": [
    "#pdf = spark.read.option(\"header\", \"true\").csv(\"../data/reviews.csv\")\n",
    "#dfp.printSchema()\n",
    "\n",
    "pdf = spark.read.option(\"header\",\"true\").csv('../data/reviews.csv',inferSchema=True)\n",
    "pdf.show(5)"
   ]
  },
  {
   "cell_type": "markdown",
   "id": "6f273679",
   "metadata": {},
   "source": [
    "Filter Operations"
   ]
  },
  {
   "cell_type": "code",
   "execution_count": 40,
   "id": "19008c02",
   "metadata": {},
   "outputs": [
    {
     "data": {
      "text/plain": [
       "272042"
      ]
     },
     "execution_count": 40,
     "metadata": {},
     "output_type": "execute_result"
    }
   ],
   "source": [
    "### IDs with date superior to 2009\n",
    "\n",
    "pdf.filter(\"date > '2010-01-01'\").count()"
   ]
  },
  {
   "cell_type": "code",
   "execution_count": 41,
   "id": "33da1c30",
   "metadata": {},
   "outputs": [
    {
     "data": {
      "text/plain": [
       "10"
      ]
     },
     "execution_count": 41,
     "metadata": {},
     "output_type": "execute_result"
    }
   ],
   "source": [
    "pdf.filter((pdf[\"date\"] > '2009-01-01') & (pdf[\"date\"] < '2010-01-01')).count()\n"
   ]
  },
  {
   "cell_type": "code",
   "execution_count": 42,
   "id": "e4f16c23",
   "metadata": {},
   "outputs": [
    {
     "data": {
      "text/plain": [
       "0"
      ]
     },
     "execution_count": 42,
     "metadata": {},
     "output_type": "execute_result"
    }
   ],
   "source": [
    "pdf.filter(~(pdf[\"date\"] > '2009-01-01') & (pdf[\"date\"] < '2010-01-01')).count()\n"
   ]
  },
  {
   "cell_type": "code",
   "execution_count": 43,
   "id": "7c4e9562",
   "metadata": {},
   "outputs": [],
   "source": [
    "spark.stop()"
   ]
  }
 ],
 "metadata": {
  "kernelspec": {
   "display_name": "Python 3 (ipykernel)",
   "language": "python",
   "name": "python3"
  },
  "language_info": {
   "codemirror_mode": {
    "name": "ipython",
    "version": 3
   },
   "file_extension": ".py",
   "mimetype": "text/x-python",
   "name": "python",
   "nbconvert_exporter": "python",
   "pygments_lexer": "ipython3",
   "version": "3.9.7"
  }
 },
 "nbformat": 4,
 "nbformat_minor": 5
}
