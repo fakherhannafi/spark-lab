{
 "cells": [
  {
   "cell_type": "markdown",
   "id": "71fa1589",
   "metadata": {},
   "source": [
    "#### This Notebook aims to test the good installation of Pyspark "
   ]
  },
  {
   "cell_type": "code",
   "execution_count": 1,
   "id": "10c7fc49",
   "metadata": {},
   "outputs": [
    {
     "data": {
      "text/plain": [
       "'C:\\\\Spark\\\\spark-3.1.3-bin-hadoop3.2'"
      ]
     },
     "execution_count": 1,
     "metadata": {},
     "output_type": "execute_result"
    }
   ],
   "source": [
    "# Testing pyspark installation\n",
    "# you have to install findspark with this command: conda install -c conda-forge findspark\n",
    "# Make sure if you are behind a corporate proxy to whitelist conda-forge channel\n",
    "import findspark\n",
    "findspark.init()\n",
    "findspark.find()"
   ]
  },
  {
   "cell_type": "code",
   "execution_count": 2,
   "id": "4ce7046e",
   "metadata": {},
   "outputs": [],
   "source": [
    "from pyspark import SparkContext, SparkConf\n",
    "from pyspark.sql import SparkSession\n",
    "conf = SparkConf().setAppName('SparkApp').setMaster('local')\n",
    "sc = SparkContext(conf=conf)"
   ]
  },
  {
   "cell_type": "code",
   "execution_count": 3,
   "id": "e7d18bfb",
   "metadata": {},
   "outputs": [
    {
     "data": {
      "text/plain": [
       "[1, 8, 27, 125]"
      ]
     },
     "execution_count": 3,
     "metadata": {},
     "output_type": "execute_result"
    }
   ],
   "source": [
    "#Example Test Code\n",
    "num_val = sc.parallelize([1,2,3,5])\n",
    "num_val.map(lambda x:x*x*x).collect()\n",
    "# Make sure py4j is installed in the kernel used by this notebook"
   ]
  },
  {
   "cell_type": "code",
   "execution_count": 4,
   "id": "f4915158",
   "metadata": {},
   "outputs": [],
   "source": [
    "sc.stop()"
   ]
  }
 ],
 "metadata": {
  "kernelspec": {
   "display_name": "Python 3 (ipykernel)",
   "language": "python",
   "name": "python3"
  },
  "language_info": {
   "codemirror_mode": {
    "name": "ipython",
    "version": 3
   },
   "file_extension": ".py",
   "mimetype": "text/x-python",
   "name": "python",
   "nbconvert_exporter": "python",
   "pygments_lexer": "ipython3",
   "version": "3.9.7"
  }
 },
 "nbformat": 4,
 "nbformat_minor": 5
}
