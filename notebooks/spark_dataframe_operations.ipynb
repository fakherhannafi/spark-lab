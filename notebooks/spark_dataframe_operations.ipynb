{
 "cells": [
  {
   "cell_type": "markdown",
   "id": "71fa1589",
   "metadata": {},
   "source": [
    "#### This Notebook aims to test basic operations in a dataframe (select, describe, show, dtypes...)"
   ]
  },
  {
   "cell_type": "code",
   "execution_count": 1,
   "id": "10c7fc49",
   "metadata": {},
   "outputs": [],
   "source": [
    "# Testing pyspark installation\n",
    "# you have to install findspark with this command: conda install -c conda-forge findspark\n",
    "# Make sure if you are behind a corporate proxy to whitelist conda-forge channel\n",
    "import findspark\n",
    "findspark.init()\n",
    "findspark.find()\n",
    "\n",
    "import os\n",
    "# Make sure you add the good version of the package hadoop-aws, compatible to hadoop version already installed\n",
    "os.environ['PYSPARK_SUBMIT_ARGS'] = '--packages org.apache.hadoop:hadoop-aws:3.2.0 --conf spark.dynamicAllocation.enabled=true pyspark-shell '"
   ]
  },
  {
   "cell_type": "code",
   "execution_count": 2,
   "id": "f957226c",
   "metadata": {},
   "outputs": [
    {
     "data": {
      "text/html": [
       "\n",
       "            <div>\n",
       "                <p><b>SparkSession - in-memory</b></p>\n",
       "                \n",
       "        <div>\n",
       "            <p><b>SparkContext</b></p>\n",
       "\n",
       "            <p><a href=\"http://LAPTOP-FTPONOOH:4043\">Spark UI</a></p>\n",
       "\n",
       "            <dl>\n",
       "              <dt>Version</dt>\n",
       "                <dd><code>v3.1.3</code></dd>\n",
       "              <dt>Master</dt>\n",
       "                <dd><code>local[*]</code></dd>\n",
       "              <dt>AppName</dt>\n",
       "                <dd><code>Dataframe</code></dd>\n",
       "            </dl>\n",
       "        </div>\n",
       "        \n",
       "            </div>\n",
       "        "
      ],
      "text/plain": [
       "<pyspark.sql.session.SparkSession at 0x16b41318b50>"
      ]
     },
     "execution_count": 2,
     "metadata": {},
     "output_type": "execute_result"
    }
   ],
   "source": [
    "from pyspark.sql import SparkSession\n",
    "\n",
    "spark = SparkSession.builder.appName(\"Dataframe\").getOrCreate()\n",
    "spark\n"
   ]
  },
  {
   "cell_type": "code",
   "execution_count": 5,
   "id": "ea276a8a",
   "metadata": {},
   "outputs": [
    {
     "name": "stdout",
     "output_type": "stream",
     "text": [
      "+----------+----------+\n",
      "|listing_id|      date|\n",
      "+----------+----------+\n",
      "|      2818|      null|\n",
      "|      2818|2009-04-24|\n",
      "|      2818|2009-05-03|\n",
      "|      2818|2009-05-18|\n",
      "|      2818|2009-05-25|\n",
      "+----------+----------+\n",
      "only showing top 5 rows\n",
      "\n"
     ]
    }
   ],
   "source": [
    "#pdf = spark.read.option(\"header\", \"true\").csv(\"../data/reviews.csv\")\n",
    "#dfp.printSchema()\n",
    "\n",
    "pdf = spark.read.option(\"header\",\"true\").csv('../data/reviews.csv',inferSchema=True)\n",
    "pdf.show(5)"
   ]
  },
  {
   "cell_type": "code",
   "execution_count": 23,
   "id": "7decf53e",
   "metadata": {},
   "outputs": [
    {
     "data": {
      "text/plain": [
       "[Row(listing_id=2818, date='2009-03-30'),\n",
       " Row(listing_id=2818, date='2009-04-24'),\n",
       " Row(listing_id=2818, date='2009-05-03')]"
      ]
     },
     "execution_count": 23,
     "metadata": {},
     "output_type": "execute_result"
    }
   ],
   "source": [
    "pdf.head(3)"
   ]
  },
  {
   "cell_type": "code",
   "execution_count": 4,
   "id": "60cb9ab3",
   "metadata": {},
   "outputs": [
    {
     "data": {
      "text/plain": [
       "['listing_id', 'date']"
      ]
     },
     "execution_count": 4,
     "metadata": {},
     "output_type": "execute_result"
    }
   ],
   "source": [
    "pdf.columns"
   ]
  },
  {
   "cell_type": "code",
   "execution_count": 35,
   "id": "ea276a8a",
   "metadata": {},
   "outputs": [
    {
     "name": "stdout",
     "output_type": "stream",
     "text": [
      "+----------+----------+\n",
      "|listing_id|      date|\n",
      "+----------+----------+\n",
      "|      2818|2009-03-30|\n",
      "|      2818|2009-04-24|\n",
      "+----------+----------+\n",
      "only showing top 2 rows\n",
      "\n"
     ]
    }
   ],
   "source": [
    "pdf.select(\"listing_id\",\"date\").show(2)"
   ]
  },
  {
   "cell_type": "code",
   "execution_count": 38,
   "id": "cf9c8b7a",
   "metadata": {},
   "outputs": [
    {
     "data": {
      "text/plain": [
       "Column<'date'>"
      ]
     },
     "execution_count": 38,
     "metadata": {},
     "output_type": "execute_result"
    }
   ],
   "source": [
    "pdf[\"date\"]"
   ]
  },
  {
   "cell_type": "code",
   "execution_count": 39,
   "id": "3c7806ff",
   "metadata": {},
   "outputs": [
    {
     "data": {
      "text/plain": [
       "[('listing_id', 'int'), ('date', 'string')]"
      ]
     },
     "execution_count": 39,
     "metadata": {},
     "output_type": "execute_result"
    }
   ],
   "source": [
    "pdf.dtypes"
   ]
  },
  {
   "cell_type": "code",
   "execution_count": 40,
   "id": "514fe3a4",
   "metadata": {},
   "outputs": [
    {
     "name": "stdout",
     "output_type": "stream",
     "text": [
      "+-------+--------------------+----------+\n",
      "|summary|          listing_id|      date|\n",
      "+-------+--------------------+----------+\n",
      "|  count|              272056|    272056|\n",
      "|   mean|1.3869881695500191E7|      null|\n",
      "| stddev|1.2648607608005749E7|      null|\n",
      "|    min|                2818|2009-03-30|\n",
      "|    max|            53294643|2021-12-05|\n",
      "+-------+--------------------+----------+\n",
      "\n"
     ]
    }
   ],
   "source": [
    "pdf.describe().show()"
   ]
  },
  {
   "cell_type": "code",
   "execution_count": 52,
   "id": "5c31e6a7",
   "metadata": {},
   "outputs": [],
   "source": [
    "# Add Columns in our Dataframe\n",
    "pdf = pdf.withColumn(\"listing_id_2\", pdf[\"listing_id\"]+2)\n"
   ]
  },
  {
   "cell_type": "code",
   "execution_count": 54,
   "id": "977bf580",
   "metadata": {},
   "outputs": [
    {
     "name": "stdout",
     "output_type": "stream",
     "text": [
      "+----------+----------+------------+\n",
      "|listing_id|      date|listing_id_2|\n",
      "+----------+----------+------------+\n",
      "|      2818|2009-03-30|        2820|\n",
      "|      2818|2009-04-24|        2820|\n",
      "|      2818|2009-05-03|        2820|\n",
      "|      2818|2009-05-18|        2820|\n",
      "|      2818|2009-05-25|        2820|\n",
      "+----------+----------+------------+\n",
      "only showing top 5 rows\n",
      "\n"
     ]
    }
   ],
   "source": [
    "pdf.show(5)"
   ]
  },
  {
   "cell_type": "code",
   "execution_count": 56,
   "id": "0eea3351",
   "metadata": {},
   "outputs": [],
   "source": [
    "## Drop Columns\n",
    "\n",
    "pdf = pdf.drop(\"listing_id_2\")"
   ]
  },
  {
   "cell_type": "code",
   "execution_count": 58,
   "id": "be882aef",
   "metadata": {},
   "outputs": [
    {
     "name": "stdout",
     "output_type": "stream",
     "text": [
      "+----------+----------+\n",
      "|listing_id|      date|\n",
      "+----------+----------+\n",
      "|      2818|2009-03-30|\n",
      "|      2818|2009-04-24|\n",
      "|      2818|2009-05-03|\n",
      "|      2818|2009-05-18|\n",
      "|      2818|2009-05-25|\n",
      "+----------+----------+\n",
      "only showing top 5 rows\n",
      "\n"
     ]
    }
   ],
   "source": [
    "pdf.show(5)"
   ]
  },
  {
   "cell_type": "code",
   "execution_count": 59,
   "id": "73c15c9c",
   "metadata": {},
   "outputs": [
    {
     "name": "stdout",
     "output_type": "stream",
     "text": [
      "+----+----------+\n",
      "|  id|      date|\n",
      "+----+----------+\n",
      "|2818|2009-03-30|\n",
      "|2818|2009-04-24|\n",
      "|2818|2009-05-03|\n",
      "|2818|2009-05-18|\n",
      "|2818|2009-05-25|\n",
      "+----+----------+\n",
      "only showing top 5 rows\n",
      "\n"
     ]
    }
   ],
   "source": [
    "## Rename Columns\n",
    "pdf.withColumnRenamed(\"listing_id\", \"id\").show(5)"
   ]
  },
  {
   "cell_type": "code",
   "execution_count": null,
   "id": "f4915158",
   "metadata": {},
   "outputs": [],
   "source": [
    "spark.stop()"
   ]
  }
 ],
 "metadata": {
  "kernelspec": {
   "display_name": "Python 3 (ipykernel)",
   "language": "python",
   "name": "python3"
  },
  "language_info": {
   "codemirror_mode": {
    "name": "ipython",
    "version": 3
   },
   "file_extension": ".py",
   "mimetype": "text/x-python",
   "name": "python",
   "nbconvert_exporter": "python",
   "pygments_lexer": "ipython3",
   "version": "3.9.7"
  }
 },
 "nbformat": 4,
 "nbformat_minor": 5
}
